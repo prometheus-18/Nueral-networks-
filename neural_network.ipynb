{
  "nbformat": 4,
  "nbformat_minor": 0,
  "metadata": {
    "colab": {
      "provenance": []
    },
    "kernelspec": {
      "name": "python3",
      "display_name": "Python 3"
    },
    "language_info": {
      "name": "python"
    }
  },
  "cells": [
    {
      "cell_type": "code",
      "source": [
        "import numpy as np\n",
        "from sklearn.datasets import load_digits\n",
        "from sklearn.model_selection import train_test_split\n",
        "from sklearn.neural_network import MLPClassifier\n",
        "from sklearn.metrics import confusion_matrix, accuracy_score "
      ],
      "metadata": {
        "id": "8tluF1M31lVF"
      },
      "execution_count": null,
      "outputs": []
    },
    {
      "cell_type": "code",
      "source": [
        "dataset = load_digits()\n"
      ],
      "metadata": {
        "id": "EIzZKPs31oHm"
      },
      "execution_count": null,
      "outputs": []
    },
    {
      "cell_type": "code",
      "source": [
        "x_train, x_test, y_train, y_test = train_test_split(dataset.data, dataset.target, test_size=0.20, random_state=4)"
      ],
      "metadata": {
        "id": "KWxWNigy1rfu"
      },
      "execution_count": null,
      "outputs": []
    },
    {
      "cell_type": "code",
      "source": [
        "NN = MLPClassifier()\n"
      ],
      "metadata": {
        "id": "vB7gxObL1vX1"
      },
      "execution_count": null,
      "outputs": []
    },
    {
      "cell_type": "code",
      "source": [
        "NN.fit(x_train, y_train)\n"
      ],
      "metadata": {
        "colab": {
          "base_uri": "https://localhost:8080/"
        },
        "id": "eFbKTHjw1x9b",
        "outputId": "26f1f924-aab1-4d3a-933c-5a0482d23e8c"
      },
      "execution_count": null,
      "outputs": [
        {
          "output_type": "execute_result",
          "data": {
            "text/plain": [
              "MLPClassifier()"
            ]
          },
          "metadata": {},
          "execution_count": 7
        }
      ]
    },
    {
      "cell_type": "code",
      "source": [
        "y_pred = NN.predict(x_test)\n"
      ],
      "metadata": {
        "id": "XeUvxXMV11KT"
      },
      "execution_count": null,
      "outputs": []
    },
    {
      "cell_type": "code",
      "source": [
        "accuracy = accuracy_score(y_test,y_pred)*100\n",
        "\n",
        "confusion_mat = confusion_matrix(y_test,y_pred)\n"
      ],
      "metadata": {
        "id": "QNfo723116FS"
      },
      "execution_count": null,
      "outputs": []
    },
    {
      "cell_type": "code",
      "source": [
        "print(\"Accuracy for Neural Network is:\",accuracy)\n",
        "print(\"Confusion Matrix\")\n",
        "print(confusion_mat)"
      ],
      "metadata": {
        "colab": {
          "base_uri": "https://localhost:8080/"
        },
        "id": "W4jEbYaZ19Ij",
        "outputId": "34c63d34-5095-4234-be41-cdd664db30f3"
      },
      "execution_count": null,
      "outputs": [
        {
          "output_type": "stream",
          "name": "stdout",
          "text": [
            "Accuracy for Neural Network is: 96.66666666666667\n",
            "Confusion Matrix\n",
            "[[38  0  0  0  0  0  0  0  0  0]\n",
            " [ 0 30  1  0  0  0  0  0  1  0]\n",
            " [ 0  0 41  0  0  0  0  0  0  0]\n",
            " [ 0  0  0 32  0  1  0  0  0  0]\n",
            " [ 0  1  0  0 36  0  0  0  0  0]\n",
            " [ 0  0  0  0  0 37  0  0  0  1]\n",
            " [ 0  0  0  0  0  0 34  0  1  0]\n",
            " [ 0  0  0  0  0  0  0 38  0  0]\n",
            " [ 0  4  0  0  0  0  0  0 27  2]\n",
            " [ 0  0  0  0  0  0  0  0  0 35]]\n"
          ]
        }
      ]
    }
  ]
}